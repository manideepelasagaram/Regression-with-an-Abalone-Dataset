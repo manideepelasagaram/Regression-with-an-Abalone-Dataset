{
 "cells": [
  {
   "cell_type": "markdown",
   "id": "9aabf6ab",
   "metadata": {},
   "source": [
    "Created by: Manideep Elasagaram"
   ]
  },
  {
   "cell_type": "markdown",
   "id": "0dfb5fcf",
   "metadata": {},
   "source": [
    "Competetion: Regression with an Abalone Dataset"
   ]
  },
  {
   "cell_type": "markdown",
   "id": "afcc7c4d",
   "metadata": {},
   "source": [
    "# IMPORTING REQUIRED PACKAGES"
   ]
  },
  {
   "cell_type": "code",
   "execution_count": 1,
   "id": "21f934b3",
   "metadata": {},
   "outputs": [],
   "source": [
    "# !pip install catboost"
   ]
  },
  {
   "cell_type": "code",
   "execution_count": 2,
   "id": "468e44af",
   "metadata": {},
   "outputs": [
    {
     "name": "stdout",
     "output_type": "stream",
     "text": [
      "no display found. Using non-interactive Agg backend\n"
     ]
    }
   ],
   "source": [
    "from pathlib import Path\n",
    "\n",
    "import pandas as pd\n",
    "import numpy as np\n",
    "\n",
    "import seaborn as sns\n",
    "\n",
    "from sklearn.preprocessing import StandardScaler\n",
    "from sklearn.metrics import accuracy_score\n",
    "from sklearn.linear_model import LogisticRegression\n",
    "from sklearn.tree import DecisionTreeClassifier, DecisionTreeRegressor\n",
    "from sklearn.ensemble import RandomForestClassifier, GradientBoostingClassifier\n",
    "from sklearn.model_selection import train_test_split, cross_val_score, GridSearchCV\n",
    "from sklearn import metrics\n",
    "from sklearn.model_selection import train_test_split\n",
    "from sklearn.metrics import accuracy_score, classification_report\n",
    "from dmba import regressionSummary, exhaustive_search\n",
    "from dmba import classificationSummary, gainsChart, liftChart\n",
    "from dmba import plotDecisionTree, classificationSummary, regressionSummary\n",
    "\n",
    "from mord import LogisticIT\n",
    "from math import sqrt\n",
    "\n",
    "\n",
    "import statsmodels.api as sm\n",
    "import statsmodels.formula.api as sm\n",
    "import xgboost as xgb\n",
    "\n",
    "import matplotlib.pylab as plt\n",
    "import matplotlib.pyplot as plt\n",
    "%matplotlib inline"
   ]
  },
  {
   "cell_type": "markdown",
   "id": "9d2da2e6",
   "metadata": {},
   "source": [
    "# CREATING DATAFRAME"
   ]
  },
  {
   "cell_type": "code",
   "execution_count": 3,
   "id": "41995002",
   "metadata": {},
   "outputs": [],
   "source": [
    "#creating Abalone_df dataframe \n",
    "Abalone_df = pd.read_csv(\"train.csv\")"
   ]
  },
  {
   "cell_type": "code",
   "execution_count": 4,
   "id": "2493cfdb",
   "metadata": {},
   "outputs": [
    {
     "data": {
      "text/html": [
       "<div>\n",
       "<style scoped>\n",
       "    .dataframe tbody tr th:only-of-type {\n",
       "        vertical-align: middle;\n",
       "    }\n",
       "\n",
       "    .dataframe tbody tr th {\n",
       "        vertical-align: top;\n",
       "    }\n",
       "\n",
       "    .dataframe thead th {\n",
       "        text-align: right;\n",
       "    }\n",
       "</style>\n",
       "<table border=\"1\" class=\"dataframe\">\n",
       "  <thead>\n",
       "    <tr style=\"text-align: right;\">\n",
       "      <th></th>\n",
       "      <th>Sex</th>\n",
       "      <th>Length</th>\n",
       "      <th>Diameter</th>\n",
       "      <th>Height</th>\n",
       "      <th>Whole weight</th>\n",
       "      <th>Whole weight.1</th>\n",
       "      <th>Whole weight.2</th>\n",
       "      <th>Shell weight</th>\n",
       "      <th>Rings</th>\n",
       "    </tr>\n",
       "  </thead>\n",
       "  <tbody>\n",
       "    <tr>\n",
       "      <th>0</th>\n",
       "      <td>F</td>\n",
       "      <td>0.550</td>\n",
       "      <td>0.430</td>\n",
       "      <td>0.150</td>\n",
       "      <td>0.7715</td>\n",
       "      <td>0.3285</td>\n",
       "      <td>0.1465</td>\n",
       "      <td>0.2400</td>\n",
       "      <td>11</td>\n",
       "    </tr>\n",
       "    <tr>\n",
       "      <th>1</th>\n",
       "      <td>F</td>\n",
       "      <td>0.630</td>\n",
       "      <td>0.490</td>\n",
       "      <td>0.145</td>\n",
       "      <td>1.1300</td>\n",
       "      <td>0.4580</td>\n",
       "      <td>0.2765</td>\n",
       "      <td>0.3200</td>\n",
       "      <td>11</td>\n",
       "    </tr>\n",
       "    <tr>\n",
       "      <th>2</th>\n",
       "      <td>I</td>\n",
       "      <td>0.160</td>\n",
       "      <td>0.110</td>\n",
       "      <td>0.025</td>\n",
       "      <td>0.0210</td>\n",
       "      <td>0.0055</td>\n",
       "      <td>0.0030</td>\n",
       "      <td>0.0050</td>\n",
       "      <td>6</td>\n",
       "    </tr>\n",
       "    <tr>\n",
       "      <th>3</th>\n",
       "      <td>M</td>\n",
       "      <td>0.595</td>\n",
       "      <td>0.475</td>\n",
       "      <td>0.150</td>\n",
       "      <td>0.9145</td>\n",
       "      <td>0.3755</td>\n",
       "      <td>0.2055</td>\n",
       "      <td>0.2500</td>\n",
       "      <td>10</td>\n",
       "    </tr>\n",
       "    <tr>\n",
       "      <th>4</th>\n",
       "      <td>I</td>\n",
       "      <td>0.555</td>\n",
       "      <td>0.425</td>\n",
       "      <td>0.130</td>\n",
       "      <td>0.7820</td>\n",
       "      <td>0.3695</td>\n",
       "      <td>0.1600</td>\n",
       "      <td>0.1975</td>\n",
       "      <td>9</td>\n",
       "    </tr>\n",
       "    <tr>\n",
       "      <th>...</th>\n",
       "      <td>...</td>\n",
       "      <td>...</td>\n",
       "      <td>...</td>\n",
       "      <td>...</td>\n",
       "      <td>...</td>\n",
       "      <td>...</td>\n",
       "      <td>...</td>\n",
       "      <td>...</td>\n",
       "      <td>...</td>\n",
       "    </tr>\n",
       "    <tr>\n",
       "      <th>90610</th>\n",
       "      <td>M</td>\n",
       "      <td>0.335</td>\n",
       "      <td>0.235</td>\n",
       "      <td>0.075</td>\n",
       "      <td>0.1585</td>\n",
       "      <td>0.0685</td>\n",
       "      <td>0.0370</td>\n",
       "      <td>0.0450</td>\n",
       "      <td>6</td>\n",
       "    </tr>\n",
       "    <tr>\n",
       "      <th>90611</th>\n",
       "      <td>M</td>\n",
       "      <td>0.555</td>\n",
       "      <td>0.425</td>\n",
       "      <td>0.150</td>\n",
       "      <td>0.8790</td>\n",
       "      <td>0.3865</td>\n",
       "      <td>0.1815</td>\n",
       "      <td>0.2400</td>\n",
       "      <td>9</td>\n",
       "    </tr>\n",
       "    <tr>\n",
       "      <th>90612</th>\n",
       "      <td>I</td>\n",
       "      <td>0.435</td>\n",
       "      <td>0.330</td>\n",
       "      <td>0.095</td>\n",
       "      <td>0.3215</td>\n",
       "      <td>0.1510</td>\n",
       "      <td>0.0785</td>\n",
       "      <td>0.0815</td>\n",
       "      <td>6</td>\n",
       "    </tr>\n",
       "    <tr>\n",
       "      <th>90613</th>\n",
       "      <td>I</td>\n",
       "      <td>0.345</td>\n",
       "      <td>0.270</td>\n",
       "      <td>0.075</td>\n",
       "      <td>0.2000</td>\n",
       "      <td>0.0980</td>\n",
       "      <td>0.0490</td>\n",
       "      <td>0.0700</td>\n",
       "      <td>6</td>\n",
       "    </tr>\n",
       "    <tr>\n",
       "      <th>90614</th>\n",
       "      <td>I</td>\n",
       "      <td>0.425</td>\n",
       "      <td>0.325</td>\n",
       "      <td>0.100</td>\n",
       "      <td>0.3455</td>\n",
       "      <td>0.1525</td>\n",
       "      <td>0.0785</td>\n",
       "      <td>0.1050</td>\n",
       "      <td>8</td>\n",
       "    </tr>\n",
       "  </tbody>\n",
       "</table>\n",
       "<p>90615 rows × 9 columns</p>\n",
       "</div>"
      ],
      "text/plain": [
       "      Sex  Length  Diameter  Height  Whole weight  Whole weight.1  \\\n",
       "0       F   0.550     0.430   0.150        0.7715          0.3285   \n",
       "1       F   0.630     0.490   0.145        1.1300          0.4580   \n",
       "2       I   0.160     0.110   0.025        0.0210          0.0055   \n",
       "3       M   0.595     0.475   0.150        0.9145          0.3755   \n",
       "4       I   0.555     0.425   0.130        0.7820          0.3695   \n",
       "...    ..     ...       ...     ...           ...             ...   \n",
       "90610   M   0.335     0.235   0.075        0.1585          0.0685   \n",
       "90611   M   0.555     0.425   0.150        0.8790          0.3865   \n",
       "90612   I   0.435     0.330   0.095        0.3215          0.1510   \n",
       "90613   I   0.345     0.270   0.075        0.2000          0.0980   \n",
       "90614   I   0.425     0.325   0.100        0.3455          0.1525   \n",
       "\n",
       "       Whole weight.2  Shell weight  Rings  \n",
       "0              0.1465        0.2400     11  \n",
       "1              0.2765        0.3200     11  \n",
       "2              0.0030        0.0050      6  \n",
       "3              0.2055        0.2500     10  \n",
       "4              0.1600        0.1975      9  \n",
       "...               ...           ...    ...  \n",
       "90610          0.0370        0.0450      6  \n",
       "90611          0.1815        0.2400      9  \n",
       "90612          0.0785        0.0815      6  \n",
       "90613          0.0490        0.0700      6  \n",
       "90614          0.0785        0.1050      8  \n",
       "\n",
       "[90615 rows x 9 columns]"
      ]
     },
     "execution_count": 4,
     "metadata": {},
     "output_type": "execute_result"
    }
   ],
   "source": [
    "#Dropping 'id' as it's and independent feature\n",
    "Abalone_df =Abalone_df.drop(columns=\"id\")\n",
    "Abalone_df"
   ]
  },
  {
   "cell_type": "code",
   "execution_count": 5,
   "id": "339a9278",
   "metadata": {},
   "outputs": [
    {
     "data": {
      "text/plain": [
       "(90615, 9)"
      ]
     },
     "execution_count": 5,
     "metadata": {},
     "output_type": "execute_result"
    }
   ],
   "source": [
    "#Dimensions \n",
    "Abalone_df.shape"
   ]
  },
  {
   "cell_type": "code",
   "execution_count": 6,
   "id": "4f66bcb3",
   "metadata": {},
   "outputs": [
    {
     "data": {
      "text/html": [
       "<div>\n",
       "<style scoped>\n",
       "    .dataframe tbody tr th:only-of-type {\n",
       "        vertical-align: middle;\n",
       "    }\n",
       "\n",
       "    .dataframe tbody tr th {\n",
       "        vertical-align: top;\n",
       "    }\n",
       "\n",
       "    .dataframe thead th {\n",
       "        text-align: right;\n",
       "    }\n",
       "</style>\n",
       "<table border=\"1\" class=\"dataframe\">\n",
       "  <thead>\n",
       "    <tr style=\"text-align: right;\">\n",
       "      <th></th>\n",
       "      <th>Sex</th>\n",
       "      <th>Length</th>\n",
       "      <th>Diameter</th>\n",
       "      <th>Height</th>\n",
       "      <th>Whole weight</th>\n",
       "      <th>Whole weight.1</th>\n",
       "      <th>Whole weight.2</th>\n",
       "      <th>Shell weight</th>\n",
       "      <th>Rings</th>\n",
       "    </tr>\n",
       "  </thead>\n",
       "  <tbody>\n",
       "    <tr>\n",
       "      <th>0</th>\n",
       "      <td>F</td>\n",
       "      <td>0.550</td>\n",
       "      <td>0.430</td>\n",
       "      <td>0.150</td>\n",
       "      <td>0.7715</td>\n",
       "      <td>0.3285</td>\n",
       "      <td>0.1465</td>\n",
       "      <td>0.2400</td>\n",
       "      <td>11</td>\n",
       "    </tr>\n",
       "    <tr>\n",
       "      <th>1</th>\n",
       "      <td>F</td>\n",
       "      <td>0.630</td>\n",
       "      <td>0.490</td>\n",
       "      <td>0.145</td>\n",
       "      <td>1.1300</td>\n",
       "      <td>0.4580</td>\n",
       "      <td>0.2765</td>\n",
       "      <td>0.3200</td>\n",
       "      <td>11</td>\n",
       "    </tr>\n",
       "    <tr>\n",
       "      <th>2</th>\n",
       "      <td>I</td>\n",
       "      <td>0.160</td>\n",
       "      <td>0.110</td>\n",
       "      <td>0.025</td>\n",
       "      <td>0.0210</td>\n",
       "      <td>0.0055</td>\n",
       "      <td>0.0030</td>\n",
       "      <td>0.0050</td>\n",
       "      <td>6</td>\n",
       "    </tr>\n",
       "    <tr>\n",
       "      <th>3</th>\n",
       "      <td>M</td>\n",
       "      <td>0.595</td>\n",
       "      <td>0.475</td>\n",
       "      <td>0.150</td>\n",
       "      <td>0.9145</td>\n",
       "      <td>0.3755</td>\n",
       "      <td>0.2055</td>\n",
       "      <td>0.2500</td>\n",
       "      <td>10</td>\n",
       "    </tr>\n",
       "    <tr>\n",
       "      <th>4</th>\n",
       "      <td>I</td>\n",
       "      <td>0.555</td>\n",
       "      <td>0.425</td>\n",
       "      <td>0.130</td>\n",
       "      <td>0.7820</td>\n",
       "      <td>0.3695</td>\n",
       "      <td>0.1600</td>\n",
       "      <td>0.1975</td>\n",
       "      <td>9</td>\n",
       "    </tr>\n",
       "    <tr>\n",
       "      <th>5</th>\n",
       "      <td>F</td>\n",
       "      <td>0.610</td>\n",
       "      <td>0.480</td>\n",
       "      <td>0.170</td>\n",
       "      <td>1.2010</td>\n",
       "      <td>0.5335</td>\n",
       "      <td>0.3135</td>\n",
       "      <td>0.3085</td>\n",
       "      <td>10</td>\n",
       "    </tr>\n",
       "    <tr>\n",
       "      <th>6</th>\n",
       "      <td>M</td>\n",
       "      <td>0.415</td>\n",
       "      <td>0.325</td>\n",
       "      <td>0.110</td>\n",
       "      <td>0.3315</td>\n",
       "      <td>0.1655</td>\n",
       "      <td>0.0715</td>\n",
       "      <td>0.1300</td>\n",
       "      <td>9</td>\n",
       "    </tr>\n",
       "    <tr>\n",
       "      <th>7</th>\n",
       "      <td>F</td>\n",
       "      <td>0.610</td>\n",
       "      <td>0.490</td>\n",
       "      <td>0.150</td>\n",
       "      <td>1.1165</td>\n",
       "      <td>0.4955</td>\n",
       "      <td>0.2945</td>\n",
       "      <td>0.2950</td>\n",
       "      <td>9</td>\n",
       "    </tr>\n",
       "    <tr>\n",
       "      <th>8</th>\n",
       "      <td>I</td>\n",
       "      <td>0.205</td>\n",
       "      <td>0.150</td>\n",
       "      <td>0.040</td>\n",
       "      <td>0.0460</td>\n",
       "      <td>0.0145</td>\n",
       "      <td>0.0105</td>\n",
       "      <td>0.0100</td>\n",
       "      <td>4</td>\n",
       "    </tr>\n",
       "    <tr>\n",
       "      <th>9</th>\n",
       "      <td>I</td>\n",
       "      <td>0.565</td>\n",
       "      <td>0.425</td>\n",
       "      <td>0.125</td>\n",
       "      <td>0.6510</td>\n",
       "      <td>0.3795</td>\n",
       "      <td>0.1420</td>\n",
       "      <td>0.1800</td>\n",
       "      <td>8</td>\n",
       "    </tr>\n",
       "    <tr>\n",
       "      <th>10</th>\n",
       "      <td>M</td>\n",
       "      <td>0.485</td>\n",
       "      <td>0.390</td>\n",
       "      <td>0.135</td>\n",
       "      <td>0.6335</td>\n",
       "      <td>0.3035</td>\n",
       "      <td>0.1650</td>\n",
       "      <td>0.2000</td>\n",
       "      <td>8</td>\n",
       "    </tr>\n",
       "    <tr>\n",
       "      <th>11</th>\n",
       "      <td>M</td>\n",
       "      <td>0.605</td>\n",
       "      <td>0.500</td>\n",
       "      <td>0.185</td>\n",
       "      <td>1.2180</td>\n",
       "      <td>0.5885</td>\n",
       "      <td>0.2705</td>\n",
       "      <td>0.3100</td>\n",
       "      <td>11</td>\n",
       "    </tr>\n",
       "    <tr>\n",
       "      <th>12</th>\n",
       "      <td>F</td>\n",
       "      <td>0.595</td>\n",
       "      <td>0.475</td>\n",
       "      <td>0.145</td>\n",
       "      <td>0.9085</td>\n",
       "      <td>0.3605</td>\n",
       "      <td>0.1765</td>\n",
       "      <td>0.2650</td>\n",
       "      <td>15</td>\n",
       "    </tr>\n",
       "    <tr>\n",
       "      <th>13</th>\n",
       "      <td>I</td>\n",
       "      <td>0.440</td>\n",
       "      <td>0.345</td>\n",
       "      <td>0.110</td>\n",
       "      <td>0.4495</td>\n",
       "      <td>0.1750</td>\n",
       "      <td>0.0945</td>\n",
       "      <td>0.1365</td>\n",
       "      <td>7</td>\n",
       "    </tr>\n",
       "    <tr>\n",
       "      <th>14</th>\n",
       "      <td>I</td>\n",
       "      <td>0.555</td>\n",
       "      <td>0.435</td>\n",
       "      <td>0.145</td>\n",
       "      <td>0.7905</td>\n",
       "      <td>0.3495</td>\n",
       "      <td>0.1815</td>\n",
       "      <td>0.2425</td>\n",
       "      <td>10</td>\n",
       "    </tr>\n",
       "    <tr>\n",
       "      <th>15</th>\n",
       "      <td>F</td>\n",
       "      <td>0.590</td>\n",
       "      <td>0.440</td>\n",
       "      <td>0.185</td>\n",
       "      <td>1.0195</td>\n",
       "      <td>0.4005</td>\n",
       "      <td>0.2465</td>\n",
       "      <td>0.2650</td>\n",
       "      <td>11</td>\n",
       "    </tr>\n",
       "    <tr>\n",
       "      <th>16</th>\n",
       "      <td>I</td>\n",
       "      <td>0.335</td>\n",
       "      <td>0.250</td>\n",
       "      <td>0.090</td>\n",
       "      <td>0.1965</td>\n",
       "      <td>0.0960</td>\n",
       "      <td>0.0540</td>\n",
       "      <td>0.0550</td>\n",
       "      <td>8</td>\n",
       "    </tr>\n",
       "    <tr>\n",
       "      <th>17</th>\n",
       "      <td>M</td>\n",
       "      <td>0.675</td>\n",
       "      <td>0.545</td>\n",
       "      <td>0.180</td>\n",
       "      <td>1.6330</td>\n",
       "      <td>0.7410</td>\n",
       "      <td>0.3390</td>\n",
       "      <td>0.4850</td>\n",
       "      <td>12</td>\n",
       "    </tr>\n",
       "    <tr>\n",
       "      <th>18</th>\n",
       "      <td>I</td>\n",
       "      <td>0.500</td>\n",
       "      <td>0.360</td>\n",
       "      <td>0.105</td>\n",
       "      <td>0.4940</td>\n",
       "      <td>0.2385</td>\n",
       "      <td>0.1055</td>\n",
       "      <td>0.1300</td>\n",
       "      <td>8</td>\n",
       "    </tr>\n",
       "    <tr>\n",
       "      <th>19</th>\n",
       "      <td>M</td>\n",
       "      <td>0.305</td>\n",
       "      <td>0.215</td>\n",
       "      <td>0.100</td>\n",
       "      <td>0.2240</td>\n",
       "      <td>0.0865</td>\n",
       "      <td>0.0345</td>\n",
       "      <td>0.0700</td>\n",
       "      <td>7</td>\n",
       "    </tr>\n",
       "  </tbody>\n",
       "</table>\n",
       "</div>"
      ],
      "text/plain": [
       "   Sex  Length  Diameter  Height  Whole weight  Whole weight.1  \\\n",
       "0    F   0.550     0.430   0.150        0.7715          0.3285   \n",
       "1    F   0.630     0.490   0.145        1.1300          0.4580   \n",
       "2    I   0.160     0.110   0.025        0.0210          0.0055   \n",
       "3    M   0.595     0.475   0.150        0.9145          0.3755   \n",
       "4    I   0.555     0.425   0.130        0.7820          0.3695   \n",
       "5    F   0.610     0.480   0.170        1.2010          0.5335   \n",
       "6    M   0.415     0.325   0.110        0.3315          0.1655   \n",
       "7    F   0.610     0.490   0.150        1.1165          0.4955   \n",
       "8    I   0.205     0.150   0.040        0.0460          0.0145   \n",
       "9    I   0.565     0.425   0.125        0.6510          0.3795   \n",
       "10   M   0.485     0.390   0.135        0.6335          0.3035   \n",
       "11   M   0.605     0.500   0.185        1.2180          0.5885   \n",
       "12   F   0.595     0.475   0.145        0.9085          0.3605   \n",
       "13   I   0.440     0.345   0.110        0.4495          0.1750   \n",
       "14   I   0.555     0.435   0.145        0.7905          0.3495   \n",
       "15   F   0.590     0.440   0.185        1.0195          0.4005   \n",
       "16   I   0.335     0.250   0.090        0.1965          0.0960   \n",
       "17   M   0.675     0.545   0.180        1.6330          0.7410   \n",
       "18   I   0.500     0.360   0.105        0.4940          0.2385   \n",
       "19   M   0.305     0.215   0.100        0.2240          0.0865   \n",
       "\n",
       "    Whole weight.2  Shell weight  Rings  \n",
       "0           0.1465        0.2400     11  \n",
       "1           0.2765        0.3200     11  \n",
       "2           0.0030        0.0050      6  \n",
       "3           0.2055        0.2500     10  \n",
       "4           0.1600        0.1975      9  \n",
       "5           0.3135        0.3085     10  \n",
       "6           0.0715        0.1300      9  \n",
       "7           0.2945        0.2950      9  \n",
       "8           0.0105        0.0100      4  \n",
       "9           0.1420        0.1800      8  \n",
       "10          0.1650        0.2000      8  \n",
       "11          0.2705        0.3100     11  \n",
       "12          0.1765        0.2650     15  \n",
       "13          0.0945        0.1365      7  \n",
       "14          0.1815        0.2425     10  \n",
       "15          0.2465        0.2650     11  \n",
       "16          0.0540        0.0550      8  \n",
       "17          0.3390        0.4850     12  \n",
       "18          0.1055        0.1300      8  \n",
       "19          0.0345        0.0700      7  "
      ]
     },
     "execution_count": 6,
     "metadata": {},
     "output_type": "execute_result"
    }
   ],
   "source": [
    "#Display the first 20 column of the dataframe\n",
    "Abalone_df.head(20)"
   ]
  },
  {
   "cell_type": "code",
   "execution_count": 7,
   "id": "64f91084",
   "metadata": {},
   "outputs": [
    {
     "data": {
      "text/plain": [
       "Index(['Sex', 'Length', 'Diameter', 'Height', 'Whole weight', 'Whole weight.1',\n",
       "       'Whole weight.2', 'Shell weight', 'Rings'],\n",
       "      dtype='object')"
      ]
     },
     "execution_count": 7,
     "metadata": {},
     "output_type": "execute_result"
    }
   ],
   "source": [
    "#Total column names\n",
    "Abalone_df.columns"
   ]
  },
  {
   "cell_type": "code",
   "execution_count": 8,
   "id": "4c21b234",
   "metadata": {},
   "outputs": [
    {
     "name": "stdout",
     "output_type": "stream",
     "text": [
      "<class 'pandas.core.frame.DataFrame'>\n",
      "RangeIndex: 90615 entries, 0 to 90614\n",
      "Data columns (total 9 columns):\n",
      " #   Column          Non-Null Count  Dtype   \n",
      "---  ------          --------------  -----   \n",
      " 0   Sex             90615 non-null  category\n",
      " 1   Length          90615 non-null  float64 \n",
      " 2   Diameter        90615 non-null  float64 \n",
      " 3   Height          90615 non-null  float64 \n",
      " 4   Whole weight    90615 non-null  float64 \n",
      " 5   Whole weight.1  90615 non-null  float64 \n",
      " 6   Whole weight.2  90615 non-null  float64 \n",
      " 7   Shell weight    90615 non-null  float64 \n",
      " 8   Rings           90615 non-null  int64   \n",
      "dtypes: category(1), float64(7), int64(1)\n",
      "memory usage: 5.6 MB\n"
     ]
    }
   ],
   "source": [
    "Abalone_df['Sex'] = Abalone_df['Sex'].astype('category')\n",
    "Abalone_df.info()"
   ]
  },
  {
   "cell_type": "code",
   "execution_count": 9,
   "id": "00d004d5",
   "metadata": {},
   "outputs": [
    {
     "data": {
      "text/plain": [
       "Sex               category\n",
       "Length             float64\n",
       "Diameter           float64\n",
       "Height             float64\n",
       "Whole weight       float64\n",
       "Whole weight.1     float64\n",
       "Whole weight.2     float64\n",
       "Shell weight       float64\n",
       "Rings                int64\n",
       "dtype: object"
      ]
     },
     "execution_count": 9,
     "metadata": {},
     "output_type": "execute_result"
    }
   ],
   "source": [
    "Abalone_df.dtypes"
   ]
  },
  {
   "cell_type": "markdown",
   "id": "1a1e1aa3",
   "metadata": {},
   "source": [
    "# HISTOGRAM"
   ]
  },
  {
   "cell_type": "code",
   "execution_count": 10,
   "id": "140721a1",
   "metadata": {},
   "outputs": [
    {
     "data": {
      "image/png": "[encoded data removed]",
      "text/plain": [
       "<Figure size 576x432 with 1 Axes>"
      ]
     },
     "metadata": {
      "needs_background": "light"
     },
     "output_type": "display_data"
    },
    {
     "data": {
      "image/png": "[encoded data removed]",
      "text/plain": [
       "<Figure size 576x432 with 1 Axes>"
      ]
     },
     "metadata": {
      "needs_background": "light"
     },
     "output_type": "display_data"
    },
    {
     "data": {
      "image/png": "[encoded data removed]",
      "text/plain": [
       "<Figure size 576x432 with 1 Axes>"
      ]
     },
     "metadata": {
      "needs_background": "light"
     },
     "output_type": "display_data"
    },
    {
     "data": {
      "image/png": "[encoded data removed]",
      "text/plain": [
       "<Figure size 576x432 with 1 Axes>"
      ]
     },
     "metadata": {
      "needs_background": "light"
     },
     "output_type": "display_data"
    },
    {
     "data": {
      "image/png": "[encoded data removed]",
      "text/plain": [
       "<Figure size 576x432 with 1 Axes>"
      ]
     },
     "metadata": {
      "needs_background": "light"
     },
     "output_type": "display_data"
    },
    {
     "data": {
      "image/png": "[encoded data removed]",
      "text/plain": [
       "<Figure size 576x432 with 1 Axes>"
      ]
     },
     "metadata": {
      "needs_background": "light"
     },
     "output_type": "display_data"
    },
    {
     "data": {
      "image/png": "[encoded data removed]",
      "text/plain": [
       "<Figure size 576x432 with 1 Axes>"
      ]
     },
     "metadata": {
      "needs_background": "light"
     },
     "output_type": "display_data"
    },
    {
     "data": {
      "image/png": "[encoded data removed]",
      "text/plain": [
       "<Figure size 576x432 with 1 Axes>"
      ]
     },
     "metadata": {
      "needs_background": "light"
     },
     "output_type": "display_data"
    },
    {
     "data": {
      "image/png": "[encoded data removed]",
      "text/plain": [
       "<Figure size 576x432 with 1 Axes>"
      ]
     },
     "metadata": {
      "needs_background": "light"
     },
     "output_type": "display_data"
    }
   ],
   "source": [
    "\n",
    "#Using Seaborn for plotting histograms for each numerical column\n",
    "for column in  Abalone_df.columns:\n",
    "    plt.figure(figsize=(8, 6))\n",
    "    sns.histplot(data=Abalone_df, x=column, bins=20, color='skyblue', edgecolor='black')\n",
    "    plt.title(f'Histogram of {column}')\n",
    "    plt.xlabel(column)\n",
    "    plt.ylabel('Frequency')\n",
    "    plt.grid(True)\n",
    "    plt.show()\n",
    "    "
   ]
  },
  {
   "cell_type": "markdown",
   "id": "db1b4e29",
   "metadata": {},
   "source": [
    "# BOXPLOT"
   ]
  },
  {
   "cell_type": "code",
   "execution_count": 11,
   "id": "9f172001",
   "metadata": {},
   "outputs": [
    {
     "data": {
      "image/png": "[encoded data removed]",
      "text/plain": [
       "<Figure size 720x576 with 1 Axes>"
      ]
     },
     "metadata": {
      "needs_background": "light"
     },
     "output_type": "display_data"
    }
   ],
   "source": [
    "# Set up the matplotlib figure\n",
    "plt.figure(figsize=(10, 8))\n",
    "\n",
    "sns.boxplot(data=Abalone_df, orient='v', palette='Set2')\n",
    "plt.title('Boxplot of Numerical Variables')\n",
    "plt.xlabel('Variables')\n",
    "plt.ylabel('Values')\n",
    "plt.show()"
   ]
  },
  {
   "cell_type": "markdown",
   "id": "93379d5f",
   "metadata": {},
   "source": [
    "# SCATTERPLOT"
   ]
  },
  {
   "cell_type": "code",
   "execution_count": 12,
   "id": "c4421178",
   "metadata": {},
   "outputs": [
    {
     "data": {
      "image/png": "[encoded data removed]",
      "text/plain": [
       "<Figure size 720x576 with 1 Axes>"
      ]
     },
     "metadata": {
      "needs_background": "light"
     },
     "output_type": "display_data"
    }
   ],
   "source": [
    "#Set up the figure and axis\n",
    "plt.figure(figsize=(10, 8))\n",
    "sns.scatterplot(data=Abalone_df, x='Length', y='Rings', color='red', alpha=0.5)  # Adjust 'x_column' and 'y_column' accordingly\n",
    "plt.title('Scatter Plot')\n",
    "plt.xlabel('Length Label')\n",
    "plt.ylabel('Rings Label')\n",
    "plt.show()"
   ]
  },
  {
   "cell_type": "markdown",
   "id": "7ba304dc",
   "metadata": {},
   "source": [
    "# HEATMAP"
   ]
  },
  {
   "cell_type": "code",
   "execution_count": 13,
   "id": "3e83b10d",
   "metadata": {},
   "outputs": [
    {
     "data": {
      "image/png": "[encoded data removed]",
      "text/plain": [
       "<Figure size 576x432 with 2 Axes>"
      ]
     },
     "metadata": {
      "needs_background": "light"
     },
     "output_type": "display_data"
    }
   ],
   "source": [
    "# Calculate the correlation matrix\n",
    "corr_matrix = Abalone_df.corr()\n",
    "plt.figure(figsize=(8, 6))\n",
    "\n",
    "# Draw the heatmap with the mask and correct aspect ratio\n",
    "sns.heatmap(corr_matrix, annot=True, cmap='coolwarm', fmt=\".2f\", vmin=-1, vmax=1, center=0,\n",
    "            square=True, linewidths=.5, cbar_kws={\"shrink\": .5})\n",
    "plt.title('Correlation Heatmap')\n",
    "plt.show()"
   ]
  },
  {
   "cell_type": "markdown",
   "id": "7e7e4542",
   "metadata": {},
   "source": [
    "# CREATING DUMMIES"
   ]
  },
  {
   "cell_type": "code",
   "execution_count": 14,
   "id": "15d6b620",
   "metadata": {},
   "outputs": [
    {
     "name": "stdout",
     "output_type": "stream",
     "text": [
      "   Length  Diameter  Height  Whole weight  Whole weight.1  Whole weight.2  \\\n",
      "0   0.550     0.430   0.150        0.7715          0.3285          0.1465   \n",
      "1   0.630     0.490   0.145        1.1300          0.4580          0.2765   \n",
      "2   0.160     0.110   0.025        0.0210          0.0055          0.0030   \n",
      "3   0.595     0.475   0.150        0.9145          0.3755          0.2055   \n",
      "4   0.555     0.425   0.130        0.7820          0.3695          0.1600   \n",
      "5   0.610     0.480   0.170        1.2010          0.5335          0.3135   \n",
      "6   0.415     0.325   0.110        0.3315          0.1655          0.0715   \n",
      "7   0.610     0.490   0.150        1.1165          0.4955          0.2945   \n",
      "8   0.205     0.150   0.040        0.0460          0.0145          0.0105   \n",
      "9   0.565     0.425   0.125        0.6510          0.3795          0.1420   \n",
      "\n",
      "   Shell weight  Rings  Sex_I  Sex_M  \n",
      "0        0.2400     11      0      0  \n",
      "1        0.3200     11      0      0  \n",
      "2        0.0050      6      1      0  \n",
      "3        0.2500     10      0      1  \n",
      "4        0.1975      9      1      0  \n",
      "5        0.3085     10      0      0  \n",
      "6        0.1300      9      0      1  \n",
      "7        0.2950      9      0      0  \n",
      "8        0.0100      4      1      0  \n",
      "9        0.1800      8      1      0  \n"
     ]
    }
   ],
   "source": [
    "#Creating dummies for the categorical variable 'SEX' and printing first 10 rows\n",
    "Abalone_df = pd.get_dummies(Abalone_df, columns=['Sex'], drop_first=True)\n",
    "\n",
    "print(Abalone_df.head(10))"
   ]
  },
  {
   "cell_type": "code",
   "execution_count": 15,
   "id": "179de041",
   "metadata": {},
   "outputs": [],
   "source": [
    "new_df = Abalone_df.copy()"
   ]
  },
  {
   "cell_type": "code",
   "execution_count": 16,
   "id": "a7368ae4",
   "metadata": {},
   "outputs": [
    {
     "data": {
      "text/plain": [
       "Index(['Length', 'Diameter', 'Height', 'Whole weight', 'Whole weight.1',\n",
       "       'Whole weight.2', 'Shell weight', 'Rings', 'Sex_I', 'Sex_M'],\n",
       "      dtype='object')"
      ]
     },
     "execution_count": 16,
     "metadata": {},
     "output_type": "execute_result"
    }
   ],
   "source": [
    "new_df.columns"
   ]
  },
  {
   "cell_type": "markdown",
   "id": "58a5f2e1",
   "metadata": {},
   "source": [
    "# DATA PARTITION"
   ]
  },
  {
   "cell_type": "code",
   "execution_count": 17,
   "id": "1c2b0dcf",
   "metadata": {},
   "outputs": [],
   "source": [
    "# Identify predictors and outcomes\n",
    "predictors = ['Length', 'Diameter', 'Height', 'Whole weight', 'Whole weight.1',\n",
    "       'Whole weight.2', 'Shell weight', 'Sex_I', 'Sex_M']\n",
    "outcome = 'Rings'\n",
    "\n",
    "#Data partitioning\n",
    "# Train dataset split is 65% and Test dataset split is 35%\n",
    "X = new_df[predictors]\n",
    "y = new_df[outcome]\n",
    "train_X, valid_X, train_y, valid_y = train_test_split(X, y, test_size=0.35, random_state=1)\n"
   ]
  },
  {
   "cell_type": "markdown",
   "id": "3c756f68",
   "metadata": {},
   "source": [
    "# MODELLING TECHNIQUES"
   ]
  },
  {
   "cell_type": "markdown",
   "id": "3fe71a5d",
   "metadata": {},
   "source": [
    "# CATBOOST "
   ]
  },
  {
   "cell_type": "code",
   "execution_count": 18,
   "id": "f7698f70",
   "metadata": {},
   "outputs": [
    {
     "name": "stdout",
     "output_type": "stream",
     "text": [
      "Validation Set RMSLE (Tuned): 0.14797747942111564\n"
     ]
    }
   ],
   "source": [
    "from catboost import CatBoostRegressor\n",
    "from sklearn.metrics import mean_squared_error\n",
    "\n",
    "# Define RMSLE function\n",
    "def rmsle(y_true, y_pred):\n",
    "    log_error = np.log1p(y_pred) - np.log1p(y_true)\n",
    "    squared_log_error = np.square(log_error)\n",
    "    mean_squared_log_error = np.mean(squared_log_error)\n",
    "    rmsle = np.sqrt(mean_squared_log_error)\n",
    "    return rmsle\n",
    "\n",
    "# Define the CatBoostRegressor model\n",
    "catboost_model = CatBoostRegressor(iterations=1767,  # Boosting iterations\n",
    "                                   depth=7,          # Each tree depth\n",
    "                                   max_bin = 571,\n",
    "                                   min_data_in_leaf =69,\n",
    "                                   subsample = 0.8,\n",
    "                                   \n",
    "                                   \n",
    "                                   learning_rate=0.08555655321,  # Learning rate (shrinkage)\n",
    "                                   random_state=361,   # Random state for reproducibility\n",
    "                                   random_strength= 7.87946170923,\n",
    "                                   loss_function='RMSE',  # Loss function\n",
    "                                   l2_leaf_reg=7.7,          # L2 regularization coefficient\n",
    "                                   bagging_temperature=0.08897,  # Controls the intensity of Bayesian bagging\n",
    "                                   rsm=0.7,               # Random subspace method ratio\n",
    "                                   verbose=1)       # Whether to print training progress (0: no printing, 1: printing)\n",
    "\n",
    "# Train the CatBoost model\n",
    "catboost_model.fit(train_X, train_y, early_stopping_rounds=55, verbose=False)\n",
    "\n",
    "# Make predictions on the validation set\n",
    "y_pred_val_catboost = catboost_model.predict(valid_X)\n",
    "\n",
    "# Calculate RMSLE for tuned model\n",
    "rmsle_val_catboost = rmsle(valid_y, y_pred_val_catboost)\n",
    "\n",
    "print(\"Validation Set RMSLE (Tuned):\", rmsle_val_catboost)"
   ]
  },
  {
   "cell_type": "markdown",
   "id": "c6a27205",
   "metadata": {},
   "source": [
    "# TESTING"
   ]
  },
  {
   "cell_type": "markdown",
   "id": "670f981b",
   "metadata": {},
   "source": [
    "##### TESTING THE MODEL USING test.csv"
   ]
  },
  {
   "cell_type": "code",
   "execution_count": 19,
   "id": "8818570c",
   "metadata": {},
   "outputs": [],
   "source": [
    "import pandas as pd\n",
    "\n",
    "# Load the test data\n",
    "Abalone_df_test = pd.read_csv(\"test.csv\")\n",
    "# Convert categorical columns to 'category' dtype\n",
    "Abalone_df_test['Sex'] = Abalone_df_test['Sex'].astype('category')\n"
   ]
  },
  {
   "cell_type": "code",
   "execution_count": 20,
   "id": "ef770a49",
   "metadata": {},
   "outputs": [],
   "source": [
    "Abalone_df_test_dummies = pd.get_dummies(Abalone_df_test, columns=['Sex'], drop_first=True)\n"
   ]
  },
  {
   "cell_type": "code",
   "execution_count": 21,
   "id": "e9444f44",
   "metadata": {},
   "outputs": [
    {
     "data": {
      "text/html": [
       "<div>\n",
       "<style scoped>\n",
       "    .dataframe tbody tr th:only-of-type {\n",
       "        vertical-align: middle;\n",
       "    }\n",
       "\n",
       "    .dataframe tbody tr th {\n",
       "        vertical-align: top;\n",
       "    }\n",
       "\n",
       "    .dataframe thead th {\n",
       "        text-align: right;\n",
       "    }\n",
       "</style>\n",
       "<table border=\"1\" class=\"dataframe\">\n",
       "  <thead>\n",
       "    <tr style=\"text-align: right;\">\n",
       "      <th></th>\n",
       "      <th>Length</th>\n",
       "      <th>Diameter</th>\n",
       "      <th>Height</th>\n",
       "      <th>Whole weight</th>\n",
       "      <th>Whole weight.1</th>\n",
       "      <th>Whole weight.2</th>\n",
       "      <th>Shell weight</th>\n",
       "      <th>Sex_I</th>\n",
       "      <th>Sex_M</th>\n",
       "    </tr>\n",
       "  </thead>\n",
       "  <tbody>\n",
       "    <tr>\n",
       "      <th>0</th>\n",
       "      <td>0.645</td>\n",
       "      <td>0.475</td>\n",
       "      <td>0.155</td>\n",
       "      <td>1.2380</td>\n",
       "      <td>0.6185</td>\n",
       "      <td>0.3125</td>\n",
       "      <td>0.3005</td>\n",
       "      <td>0</td>\n",
       "      <td>1</td>\n",
       "    </tr>\n",
       "    <tr>\n",
       "      <th>1</th>\n",
       "      <td>0.580</td>\n",
       "      <td>0.460</td>\n",
       "      <td>0.160</td>\n",
       "      <td>0.9830</td>\n",
       "      <td>0.4785</td>\n",
       "      <td>0.2195</td>\n",
       "      <td>0.2750</td>\n",
       "      <td>0</td>\n",
       "      <td>1</td>\n",
       "    </tr>\n",
       "    <tr>\n",
       "      <th>2</th>\n",
       "      <td>0.560</td>\n",
       "      <td>0.420</td>\n",
       "      <td>0.140</td>\n",
       "      <td>0.8395</td>\n",
       "      <td>0.3525</td>\n",
       "      <td>0.1845</td>\n",
       "      <td>0.2405</td>\n",
       "      <td>0</td>\n",
       "      <td>1</td>\n",
       "    </tr>\n",
       "    <tr>\n",
       "      <th>3</th>\n",
       "      <td>0.570</td>\n",
       "      <td>0.490</td>\n",
       "      <td>0.145</td>\n",
       "      <td>0.8740</td>\n",
       "      <td>0.3525</td>\n",
       "      <td>0.1865</td>\n",
       "      <td>0.2350</td>\n",
       "      <td>0</td>\n",
       "      <td>1</td>\n",
       "    </tr>\n",
       "    <tr>\n",
       "      <th>4</th>\n",
       "      <td>0.415</td>\n",
       "      <td>0.325</td>\n",
       "      <td>0.110</td>\n",
       "      <td>0.3580</td>\n",
       "      <td>0.1575</td>\n",
       "      <td>0.0670</td>\n",
       "      <td>0.1050</td>\n",
       "      <td>1</td>\n",
       "      <td>0</td>\n",
       "    </tr>\n",
       "    <tr>\n",
       "      <th>...</th>\n",
       "      <td>...</td>\n",
       "      <td>...</td>\n",
       "      <td>...</td>\n",
       "      <td>...</td>\n",
       "      <td>...</td>\n",
       "      <td>...</td>\n",
       "      <td>...</td>\n",
       "      <td>...</td>\n",
       "      <td>...</td>\n",
       "    </tr>\n",
       "    <tr>\n",
       "      <th>60406</th>\n",
       "      <td>0.345</td>\n",
       "      <td>0.260</td>\n",
       "      <td>0.085</td>\n",
       "      <td>0.1775</td>\n",
       "      <td>0.0735</td>\n",
       "      <td>0.0265</td>\n",
       "      <td>0.0500</td>\n",
       "      <td>1</td>\n",
       "      <td>0</td>\n",
       "    </tr>\n",
       "    <tr>\n",
       "      <th>60407</th>\n",
       "      <td>0.525</td>\n",
       "      <td>0.410</td>\n",
       "      <td>0.145</td>\n",
       "      <td>0.8445</td>\n",
       "      <td>0.3885</td>\n",
       "      <td>0.1670</td>\n",
       "      <td>0.2050</td>\n",
       "      <td>0</td>\n",
       "      <td>0</td>\n",
       "    </tr>\n",
       "    <tr>\n",
       "      <th>60408</th>\n",
       "      <td>0.590</td>\n",
       "      <td>0.440</td>\n",
       "      <td>0.155</td>\n",
       "      <td>1.1220</td>\n",
       "      <td>0.3930</td>\n",
       "      <td>0.2000</td>\n",
       "      <td>0.2650</td>\n",
       "      <td>1</td>\n",
       "      <td>0</td>\n",
       "    </tr>\n",
       "    <tr>\n",
       "      <th>60409</th>\n",
       "      <td>0.660</td>\n",
       "      <td>0.525</td>\n",
       "      <td>0.190</td>\n",
       "      <td>1.4935</td>\n",
       "      <td>0.5885</td>\n",
       "      <td>0.3575</td>\n",
       "      <td>0.4350</td>\n",
       "      <td>0</td>\n",
       "      <td>0</td>\n",
       "    </tr>\n",
       "    <tr>\n",
       "      <th>60410</th>\n",
       "      <td>0.430</td>\n",
       "      <td>0.340</td>\n",
       "      <td>0.120</td>\n",
       "      <td>0.4150</td>\n",
       "      <td>0.1525</td>\n",
       "      <td>0.0910</td>\n",
       "      <td>0.0905</td>\n",
       "      <td>0</td>\n",
       "      <td>0</td>\n",
       "    </tr>\n",
       "  </tbody>\n",
       "</table>\n",
       "<p>60411 rows × 9 columns</p>\n",
       "</div>"
      ],
      "text/plain": [
       "       Length  Diameter  Height  Whole weight  Whole weight.1  Whole weight.2  \\\n",
       "0       0.645     0.475   0.155        1.2380          0.6185          0.3125   \n",
       "1       0.580     0.460   0.160        0.9830          0.4785          0.2195   \n",
       "2       0.560     0.420   0.140        0.8395          0.3525          0.1845   \n",
       "3       0.570     0.490   0.145        0.8740          0.3525          0.1865   \n",
       "4       0.415     0.325   0.110        0.3580          0.1575          0.0670   \n",
       "...       ...       ...     ...           ...             ...             ...   \n",
       "60406   0.345     0.260   0.085        0.1775          0.0735          0.0265   \n",
       "60407   0.525     0.410   0.145        0.8445          0.3885          0.1670   \n",
       "60408   0.590     0.440   0.155        1.1220          0.3930          0.2000   \n",
       "60409   0.660     0.525   0.190        1.4935          0.5885          0.3575   \n",
       "60410   0.430     0.340   0.120        0.4150          0.1525          0.0910   \n",
       "\n",
       "       Shell weight  Sex_I  Sex_M  \n",
       "0            0.3005      0      1  \n",
       "1            0.2750      0      1  \n",
       "2            0.2405      0      1  \n",
       "3            0.2350      0      1  \n",
       "4            0.1050      1      0  \n",
       "...             ...    ...    ...  \n",
       "60406        0.0500      1      0  \n",
       "60407        0.2050      0      0  \n",
       "60408        0.2650      1      0  \n",
       "60409        0.4350      0      0  \n",
       "60410        0.0905      0      0  \n",
       "\n",
       "[60411 rows x 9 columns]"
      ]
     },
     "execution_count": 21,
     "metadata": {},
     "output_type": "execute_result"
    }
   ],
   "source": [
    "Abalone_df_test_dummies = Abalone_df_test_dummies.drop(columns=\"id\")\n",
    "Abalone_df_test_dummies"
   ]
  },
  {
   "cell_type": "markdown",
   "id": "f388f358",
   "metadata": {},
   "source": [
    "##### PREDICTIONS"
   ]
  },
  {
   "cell_type": "code",
   "execution_count": 22,
   "id": "7bc360ce",
   "metadata": {},
   "outputs": [],
   "source": [
    "predictions = catboost_model.predict(Abalone_df_test_dummies)"
   ]
  },
  {
   "cell_type": "code",
   "execution_count": 23,
   "id": "68071c62",
   "metadata": {},
   "outputs": [
    {
     "data": {
      "text/plain": [
       "array([ 9.78054318,  9.68340159,  9.96220332, ..., 12.91200482,\n",
       "       14.12767149,  8.48557428])"
      ]
     },
     "execution_count": 23,
     "metadata": {},
     "output_type": "execute_result"
    }
   ],
   "source": [
    "predictions"
   ]
  },
  {
   "cell_type": "code",
   "execution_count": 24,
   "id": "ad859b7f",
   "metadata": {},
   "outputs": [],
   "source": [
    "#Create a DataFrame for the predictions\n",
    "predictions_df = pd.DataFrame({'id': Abalone_df_test['id'], 'Rings': predictions})"
   ]
  },
  {
   "cell_type": "code",
   "execution_count": 25,
   "id": "66707127",
   "metadata": {},
   "outputs": [
    {
     "data": {
      "text/html": [
       "<div>\n",
       "<style scoped>\n",
       "    .dataframe tbody tr th:only-of-type {\n",
       "        vertical-align: middle;\n",
       "    }\n",
       "\n",
       "    .dataframe tbody tr th {\n",
       "        vertical-align: top;\n",
       "    }\n",
       "\n",
       "    .dataframe thead th {\n",
       "        text-align: right;\n",
       "    }\n",
       "</style>\n",
       "<table border=\"1\" class=\"dataframe\">\n",
       "  <thead>\n",
       "    <tr style=\"text-align: right;\">\n",
       "      <th></th>\n",
       "      <th>id</th>\n",
       "      <th>Rings</th>\n",
       "    </tr>\n",
       "  </thead>\n",
       "  <tbody>\n",
       "    <tr>\n",
       "      <th>0</th>\n",
       "      <td>90615</td>\n",
       "      <td>9.780543</td>\n",
       "    </tr>\n",
       "    <tr>\n",
       "      <th>1</th>\n",
       "      <td>90616</td>\n",
       "      <td>9.683402</td>\n",
       "    </tr>\n",
       "    <tr>\n",
       "      <th>2</th>\n",
       "      <td>90617</td>\n",
       "      <td>9.962203</td>\n",
       "    </tr>\n",
       "    <tr>\n",
       "      <th>3</th>\n",
       "      <td>90618</td>\n",
       "      <td>10.616463</td>\n",
       "    </tr>\n",
       "    <tr>\n",
       "      <th>4</th>\n",
       "      <td>90619</td>\n",
       "      <td>7.586419</td>\n",
       "    </tr>\n",
       "    <tr>\n",
       "      <th>...</th>\n",
       "      <td>...</td>\n",
       "      <td>...</td>\n",
       "    </tr>\n",
       "    <tr>\n",
       "      <th>60406</th>\n",
       "      <td>151021</td>\n",
       "      <td>6.408138</td>\n",
       "    </tr>\n",
       "    <tr>\n",
       "      <th>60407</th>\n",
       "      <td>151022</td>\n",
       "      <td>9.726992</td>\n",
       "    </tr>\n",
       "    <tr>\n",
       "      <th>60408</th>\n",
       "      <td>151023</td>\n",
       "      <td>12.912005</td>\n",
       "    </tr>\n",
       "    <tr>\n",
       "      <th>60409</th>\n",
       "      <td>151024</td>\n",
       "      <td>14.127671</td>\n",
       "    </tr>\n",
       "    <tr>\n",
       "      <th>60410</th>\n",
       "      <td>151025</td>\n",
       "      <td>8.485574</td>\n",
       "    </tr>\n",
       "  </tbody>\n",
       "</table>\n",
       "<p>60411 rows × 2 columns</p>\n",
       "</div>"
      ],
      "text/plain": [
       "           id      Rings\n",
       "0       90615   9.780543\n",
       "1       90616   9.683402\n",
       "2       90617   9.962203\n",
       "3       90618  10.616463\n",
       "4       90619   7.586419\n",
       "...       ...        ...\n",
       "60406  151021   6.408138\n",
       "60407  151022   9.726992\n",
       "60408  151023  12.912005\n",
       "60409  151024  14.127671\n",
       "60410  151025   8.485574\n",
       "\n",
       "[60411 rows x 2 columns]"
      ]
     },
     "execution_count": 25,
     "metadata": {},
     "output_type": "execute_result"
    }
   ],
   "source": [
    "predictions_df"
   ]
  },
  {
   "cell_type": "markdown",
   "id": "8279bb85",
   "metadata": {},
   "source": [
    "#### SUBMISSION FILE"
   ]
  },
  {
   "cell_type": "code",
   "execution_count": 26,
   "id": "a04dc4f1",
   "metadata": {},
   "outputs": [],
   "source": [
    "predictions_df.to_csv('Comp2_is6496.csv', index=False)"
   ]
  }
 ],
 "metadata": {
  "kernelspec": {
   "display_name": "Python 3 (ipykernel)",
   "language": "python",
   "name": "python3"
  },
  "language_info": {
   "codemirror_mode": {
    "name": "ipython",
    "version": 3
   },
   "file_extension": ".py",
   "mimetype": "text/x-python",
   "name": "python",
   "nbconvert_exporter": "python",
   "pygments_lexer": "ipython3",
   "version": "3.9.12"
  }
 },
 "nbformat": 4,
 "nbformat_minor": 5
}
